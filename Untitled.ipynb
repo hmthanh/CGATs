{
 "cells": [
  {
   "cell_type": "code",
   "execution_count": 10,
   "metadata": {},
   "outputs": [],
   "source": [
    "import torch\n",
    "from models import SpKBGATModified, SpKBGATConvOnly\n",
    "from torch.autograd import Variable\n",
    "import torch.nn as nn\n",
    "import torch.nn.functional as F\n",
    "import numpy as np\n",
    "import matplotlib.pyplot as plt\n",
    "from matplotlib.lines import Line2D\n",
    "from copy import deepcopy\n",
    "from torchsummary import summary\n",
    "\n",
    "import random\n",
    "import argparse\n",
    "import os\n",
    "import sys\n",
    "import logging\n",
    "import time\n",
    "import pickle\n",
    "\n",
    "from collections import defaultdict\n",
    "import queue\n",
    "from config import Config\n",
    "from utils import load_object"
   ]
  },
  {
   "cell_type": "code",
   "execution_count": 5,
   "metadata": {},
   "outputs": [],
   "source": [
    "args = Config()\n",
    "args.load_config()\n",
    "device = \"cuda\" if args.cuda else \"cpu\""
   ]
  },
  {
   "cell_type": "code",
   "execution_count": 8,
   "metadata": {},
   "outputs": [
    {
     "name": "stdout",
     "output_type": "stream",
     "text": [
      "Loading corpus\n"
     ]
    }
   ],
   "source": [
    "print(\"Loading corpus\")\n",
    "Corpus_ = load_object(output=args.data_folder, name=\"corpus\")\n",
    "entity_embeddings = load_object(output=args.data_folder, name=\"entity_embeddings\")\n",
    "relation_embeddings = load_object(output=args.data_folder, name=\"relation_embeddings\")\n",
    "node_neighbors_2hop = Corpus_.node_neighbors_2hop"
   ]
  },
  {
   "cell_type": "code",
   "execution_count": 11,
   "metadata": {},
   "outputs": [],
   "source": [
    "model_gat = SpKBGATModified(entity_embeddings, relation_embeddings, args.entity_out_dim, args.entity_out_dim,\n",
    "                            args.drop_GAT, args.alpha, args.nheads_GAT)\n",
    "model_conv = SpKBGATConvOnly(entity_embeddings, relation_embeddings, args.entity_out_dim, args.entity_out_dim,\n",
    "                             args.drop_GAT, args.drop_conv, args.alpha, args.alpha_conv,\n",
    "                             args.nheads_GAT, args.out_channels)"
   ]
  },
  {
   "cell_type": "code",
   "execution_count": 13,
   "metadata": {},
   "outputs": [
    {
     "data": {
      "text/plain": [
       "<All keys matched successfully>"
      ]
     },
     "execution_count": 13,
     "metadata": {},
     "output_type": "execute_result"
    }
   ],
   "source": [
    "folder = \"{output}/{dataset}\".format(output=args.output_folder, dataset=args.dataset)\n",
    "if args.save_gdrive:\n",
    "    folder = args.drive_folder\n",
    "model_name = \"{folder}/{dataset}_{device}_{name}_{epoch}.pt\".format(folder=folder, dataset=args.dataset, device=device, name=\"conv\", epoch=args.epochs_conv - 1)\n",
    "model_conv.load_state_dict(torch.load(model_name), strict=False)"
   ]
  },
  {
   "cell_type": "code",
   "execution_count": 14,
   "metadata": {},
   "outputs": [
    {
     "name": "stdout",
     "output_type": "stream",
     "text": [
      "Loading GAT encoder\n"
     ]
    },
    {
     "data": {
      "text/plain": [
       "<All keys matched successfully>"
      ]
     },
     "execution_count": 14,
     "metadata": {},
     "output_type": "execute_result"
    }
   ],
   "source": [
    "print(\"Loading GAT encoder\")\n",
    "folder = \"{output}/{dataset}\".format(output=args.output_folder, dataset=args.dataset)\n",
    "if args.save_gdrive:\n",
    "    folder = args.drive_folder\n",
    "model_name = \"{folder}/{dataset}_{device}_{name}_{epoch}.pt\".format(folder=folder, dataset=args.dataset, device=device, name=\"gat\", epoch=args.epochs_gat - 1)\n",
    "model_gat.load_state_dict(torch.load(model_name), strict=False)"
   ]
  },
  {
   "cell_type": "code",
   "execution_count": 21,
   "metadata": {},
   "outputs": [],
   "source": [
    "gat_w = model_gat.state_dict()\n",
    "conv_w = model_conv.state_dict()"
   ]
  },
  {
   "cell_type": "markdown",
   "metadata": {},
   "source": [
    "Model GAT"
   ]
  },
  {
   "cell_type": "code",
   "execution_count": 16,
   "metadata": {},
   "outputs": [
    {
     "name": "stdout",
     "output_type": "stream",
     "text": [
      "final_entity_embeddings : torch.Size([8, 200])\n",
      "final_relation_embeddings : torch.Size([9, 200])\n",
      "entity_embeddings : torch.Size([8, 50])\n",
      "relation_embeddings : torch.Size([9, 50])\n",
      "W_entities : torch.Size([50, 200])\n",
      "sparse_gat_1.W : torch.Size([50, 200])\n",
      "sparse_gat_1.attention_0.a : torch.Size([100, 150])\n",
      "sparse_gat_1.attention_0.a_2 : torch.Size([1, 100])\n",
      "sparse_gat_1.attention_1.a : torch.Size([100, 150])\n",
      "sparse_gat_1.attention_1.a_2 : torch.Size([1, 100])\n",
      "sparse_gat_1.out_att.a : torch.Size([200, 600])\n",
      "sparse_gat_1.out_att.a_2 : torch.Size([1, 200])\n"
     ]
    }
   ],
   "source": [
    "for para_name in gat_w:\n",
    "      print(\"{0} : {1}\".format(para_name, gat_w[para_name].shape))"
   ]
  },
  {
   "cell_type": "code",
   "execution_count": 19,
   "metadata": {},
   "outputs": [
    {
     "data": {
      "text/plain": [
       "SpKBGATModified(\n",
       "  (sparse_gat_1): SpGAT(\n",
       "    (dropout_layer): Dropout(p=0.3, inplace=False)\n",
       "    (attention_0): SpGraphAttentionLayer (50 -> 100)\n",
       "    (attention_1): SpGraphAttentionLayer (50 -> 100)\n",
       "    (out_att): SpGraphAttentionLayer (200 -> 200)\n",
       "  )\n",
       ")"
      ]
     },
     "execution_count": 19,
     "metadata": {},
     "output_type": "execute_result"
    }
   ],
   "source": [
    "model_gat.eval()"
   ]
  },
  {
   "cell_type": "markdown",
   "metadata": {},
   "source": [
    "Model ConvKB"
   ]
  },
  {
   "cell_type": "code",
   "execution_count": 22,
   "metadata": {},
   "outputs": [
    {
     "name": "stdout",
     "output_type": "stream",
     "text": [
      "final_entity_embeddings : torch.Size([8, 200])\n",
      "final_relation_embeddings : torch.Size([9, 200])\n",
      "convKB.conv_layer.weight : torch.Size([500, 1, 1, 3])\n",
      "convKB.conv_layer.bias : torch.Size([500])\n",
      "convKB.fc_layer.weight : torch.Size([1, 100000])\n",
      "convKB.fc_layer.bias : torch.Size([1])\n"
     ]
    }
   ],
   "source": [
    "for para_name in conv_w:\n",
    "      print(\"{0} : {1}\".format(para_name, conv_w[para_name].shape))"
   ]
  },
  {
   "cell_type": "code",
   "execution_count": 23,
   "metadata": {},
   "outputs": [
    {
     "data": {
      "text/plain": [
       "SpKBGATConvOnly(\n",
       "  (convKB): ConvKB(\n",
       "    (conv_layer): Conv2d(1, 500, kernel_size=(1, 3), stride=(1, 1))\n",
       "    (dropout): Dropout(p=0.0, inplace=False)\n",
       "    (non_linearity): ReLU()\n",
       "    (fc_layer): Linear(in_features=100000, out_features=1, bias=True)\n",
       "  )\n",
       ")"
      ]
     },
     "execution_count": 23,
     "metadata": {},
     "output_type": "execute_result"
    }
   ],
   "source": [
    "model_conv.eval()"
   ]
  }
 ],
 "metadata": {
  "kernelspec": {
   "display_name": "Python 3",
   "language": "python",
   "name": "python3"
  },
  "language_info": {
   "codemirror_mode": {
    "name": "ipython",
    "version": 3
   },
   "file_extension": ".py",
   "mimetype": "text/x-python",
   "name": "python",
   "nbconvert_exporter": "python",
   "pygments_lexer": "ipython3",
   "version": "3.7.6"
  }
 },
 "nbformat": 4,
 "nbformat_minor": 4
}
